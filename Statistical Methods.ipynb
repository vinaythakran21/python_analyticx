{
 "cells": [
  {
   "cell_type": "markdown",
   "metadata": {},
   "source": [
    "# Statistical Tests Assignment "
   ]
  },
  {
   "cell_type": "code",
   "execution_count": 1,
   "metadata": {},
   "outputs": [],
   "source": [
    "import pandas as pd\n",
    "import numpy as np\n",
    "import scipy.stats as stats\n",
    "import statsmodels as statmodel"
   ]
  },
  {
   "cell_type": "markdown",
   "metadata": {},
   "source": [
    "><em>1. A physician is evaluating a new diet for her patients with a family history of heart disease. To test the effectiveness of this diet, 16 patients are placed on the diet for 6 months. Their weights and triglyceride levels are measured before and after the study, and the physician wants to know if either set of measurements has changed. (Data set: dietstudy.csv)</em>"
   ]
  },
  {
   "cell_type": "code",
   "execution_count": 5,
   "metadata": {},
   "outputs": [
    {
     "data": {
      "text/html": [
       "<div>\n",
       "<style scoped>\n",
       "    .dataframe tbody tr th:only-of-type {\n",
       "        vertical-align: middle;\n",
       "    }\n",
       "\n",
       "    .dataframe tbody tr th {\n",
       "        vertical-align: top;\n",
       "    }\n",
       "\n",
       "    .dataframe thead th {\n",
       "        text-align: right;\n",
       "    }\n",
       "</style>\n",
       "<table border=\"1\" class=\"dataframe\">\n",
       "  <thead>\n",
       "    <tr style=\"text-align: right;\">\n",
       "      <th></th>\n",
       "      <th>patid</th>\n",
       "      <th>age</th>\n",
       "      <th>gender</th>\n",
       "      <th>tg0</th>\n",
       "      <th>tg1</th>\n",
       "      <th>tg2</th>\n",
       "      <th>tg3</th>\n",
       "      <th>tg4</th>\n",
       "      <th>wgt0</th>\n",
       "      <th>wgt1</th>\n",
       "      <th>wgt2</th>\n",
       "      <th>wgt3</th>\n",
       "      <th>wgt4</th>\n",
       "    </tr>\n",
       "  </thead>\n",
       "  <tbody>\n",
       "    <tr>\n",
       "      <th>0</th>\n",
       "      <td>1</td>\n",
       "      <td>45</td>\n",
       "      <td>Male</td>\n",
       "      <td>180</td>\n",
       "      <td>148</td>\n",
       "      <td>106</td>\n",
       "      <td>113</td>\n",
       "      <td>100</td>\n",
       "      <td>198</td>\n",
       "      <td>196</td>\n",
       "      <td>193</td>\n",
       "      <td>188</td>\n",
       "      <td>192</td>\n",
       "    </tr>\n",
       "    <tr>\n",
       "      <th>1</th>\n",
       "      <td>2</td>\n",
       "      <td>56</td>\n",
       "      <td>Male</td>\n",
       "      <td>139</td>\n",
       "      <td>94</td>\n",
       "      <td>119</td>\n",
       "      <td>75</td>\n",
       "      <td>92</td>\n",
       "      <td>237</td>\n",
       "      <td>233</td>\n",
       "      <td>232</td>\n",
       "      <td>228</td>\n",
       "      <td>225</td>\n",
       "    </tr>\n",
       "    <tr>\n",
       "      <th>2</th>\n",
       "      <td>3</td>\n",
       "      <td>50</td>\n",
       "      <td>Male</td>\n",
       "      <td>152</td>\n",
       "      <td>185</td>\n",
       "      <td>86</td>\n",
       "      <td>149</td>\n",
       "      <td>118</td>\n",
       "      <td>233</td>\n",
       "      <td>231</td>\n",
       "      <td>229</td>\n",
       "      <td>228</td>\n",
       "      <td>226</td>\n",
       "    </tr>\n",
       "    <tr>\n",
       "      <th>3</th>\n",
       "      <td>4</td>\n",
       "      <td>46</td>\n",
       "      <td>Female</td>\n",
       "      <td>112</td>\n",
       "      <td>145</td>\n",
       "      <td>136</td>\n",
       "      <td>149</td>\n",
       "      <td>82</td>\n",
       "      <td>179</td>\n",
       "      <td>181</td>\n",
       "      <td>177</td>\n",
       "      <td>174</td>\n",
       "      <td>172</td>\n",
       "    </tr>\n",
       "    <tr>\n",
       "      <th>4</th>\n",
       "      <td>5</td>\n",
       "      <td>64</td>\n",
       "      <td>Male</td>\n",
       "      <td>156</td>\n",
       "      <td>104</td>\n",
       "      <td>157</td>\n",
       "      <td>79</td>\n",
       "      <td>97</td>\n",
       "      <td>219</td>\n",
       "      <td>217</td>\n",
       "      <td>215</td>\n",
       "      <td>213</td>\n",
       "      <td>214</td>\n",
       "    </tr>\n",
       "    <tr>\n",
       "      <th>5</th>\n",
       "      <td>6</td>\n",
       "      <td>49</td>\n",
       "      <td>Female</td>\n",
       "      <td>167</td>\n",
       "      <td>138</td>\n",
       "      <td>88</td>\n",
       "      <td>107</td>\n",
       "      <td>171</td>\n",
       "      <td>169</td>\n",
       "      <td>166</td>\n",
       "      <td>165</td>\n",
       "      <td>162</td>\n",
       "      <td>161</td>\n",
       "    </tr>\n",
       "    <tr>\n",
       "      <th>6</th>\n",
       "      <td>7</td>\n",
       "      <td>63</td>\n",
       "      <td>Male</td>\n",
       "      <td>138</td>\n",
       "      <td>132</td>\n",
       "      <td>146</td>\n",
       "      <td>143</td>\n",
       "      <td>132</td>\n",
       "      <td>222</td>\n",
       "      <td>219</td>\n",
       "      <td>215</td>\n",
       "      <td>215</td>\n",
       "      <td>210</td>\n",
       "    </tr>\n",
       "    <tr>\n",
       "      <th>7</th>\n",
       "      <td>8</td>\n",
       "      <td>63</td>\n",
       "      <td>Female</td>\n",
       "      <td>160</td>\n",
       "      <td>128</td>\n",
       "      <td>150</td>\n",
       "      <td>118</td>\n",
       "      <td>123</td>\n",
       "      <td>167</td>\n",
       "      <td>167</td>\n",
       "      <td>166</td>\n",
       "      <td>162</td>\n",
       "      <td>161</td>\n",
       "    </tr>\n",
       "    <tr>\n",
       "      <th>8</th>\n",
       "      <td>9</td>\n",
       "      <td>52</td>\n",
       "      <td>Male</td>\n",
       "      <td>107</td>\n",
       "      <td>120</td>\n",
       "      <td>129</td>\n",
       "      <td>195</td>\n",
       "      <td>174</td>\n",
       "      <td>199</td>\n",
       "      <td>200</td>\n",
       "      <td>196</td>\n",
       "      <td>196</td>\n",
       "      <td>193</td>\n",
       "    </tr>\n",
       "    <tr>\n",
       "      <th>9</th>\n",
       "      <td>10</td>\n",
       "      <td>45</td>\n",
       "      <td>Male</td>\n",
       "      <td>156</td>\n",
       "      <td>103</td>\n",
       "      <td>126</td>\n",
       "      <td>135</td>\n",
       "      <td>92</td>\n",
       "      <td>233</td>\n",
       "      <td>229</td>\n",
       "      <td>229</td>\n",
       "      <td>229</td>\n",
       "      <td>226</td>\n",
       "    </tr>\n",
       "    <tr>\n",
       "      <th>10</th>\n",
       "      <td>11</td>\n",
       "      <td>61</td>\n",
       "      <td>Female</td>\n",
       "      <td>94</td>\n",
       "      <td>144</td>\n",
       "      <td>114</td>\n",
       "      <td>114</td>\n",
       "      <td>121</td>\n",
       "      <td>179</td>\n",
       "      <td>181</td>\n",
       "      <td>176</td>\n",
       "      <td>173</td>\n",
       "      <td>173</td>\n",
       "    </tr>\n",
       "    <tr>\n",
       "      <th>11</th>\n",
       "      <td>12</td>\n",
       "      <td>49</td>\n",
       "      <td>Female</td>\n",
       "      <td>107</td>\n",
       "      <td>93</td>\n",
       "      <td>156</td>\n",
       "      <td>148</td>\n",
       "      <td>150</td>\n",
       "      <td>158</td>\n",
       "      <td>153</td>\n",
       "      <td>155</td>\n",
       "      <td>155</td>\n",
       "      <td>154</td>\n",
       "    </tr>\n",
       "    <tr>\n",
       "      <th>12</th>\n",
       "      <td>13</td>\n",
       "      <td>61</td>\n",
       "      <td>Female</td>\n",
       "      <td>145</td>\n",
       "      <td>107</td>\n",
       "      <td>129</td>\n",
       "      <td>86</td>\n",
       "      <td>159</td>\n",
       "      <td>157</td>\n",
       "      <td>151</td>\n",
       "      <td>150</td>\n",
       "      <td>145</td>\n",
       "      <td>143</td>\n",
       "    </tr>\n",
       "    <tr>\n",
       "      <th>13</th>\n",
       "      <td>14</td>\n",
       "      <td>59</td>\n",
       "      <td>Male</td>\n",
       "      <td>186</td>\n",
       "      <td>142</td>\n",
       "      <td>128</td>\n",
       "      <td>122</td>\n",
       "      <td>101</td>\n",
       "      <td>216</td>\n",
       "      <td>213</td>\n",
       "      <td>210</td>\n",
       "      <td>210</td>\n",
       "      <td>206</td>\n",
       "    </tr>\n",
       "    <tr>\n",
       "      <th>14</th>\n",
       "      <td>15</td>\n",
       "      <td>52</td>\n",
       "      <td>Male</td>\n",
       "      <td>112</td>\n",
       "      <td>107</td>\n",
       "      <td>103</td>\n",
       "      <td>89</td>\n",
       "      <td>148</td>\n",
       "      <td>257</td>\n",
       "      <td>255</td>\n",
       "      <td>254</td>\n",
       "      <td>252</td>\n",
       "      <td>249</td>\n",
       "    </tr>\n",
       "    <tr>\n",
       "      <th>15</th>\n",
       "      <td>16</td>\n",
       "      <td>60</td>\n",
       "      <td>Female</td>\n",
       "      <td>104</td>\n",
       "      <td>103</td>\n",
       "      <td>117</td>\n",
       "      <td>79</td>\n",
       "      <td>130</td>\n",
       "      <td>151</td>\n",
       "      <td>146</td>\n",
       "      <td>144</td>\n",
       "      <td>144</td>\n",
       "      <td>140</td>\n",
       "    </tr>\n",
       "  </tbody>\n",
       "</table>\n",
       "</div>"
      ],
      "text/plain": [
       "    patid  age  gender  tg0  tg1  tg2  tg3  tg4  wgt0  wgt1  wgt2  wgt3  wgt4\n",
       "0       1   45    Male  180  148  106  113  100   198   196   193   188   192\n",
       "1       2   56    Male  139   94  119   75   92   237   233   232   228   225\n",
       "2       3   50    Male  152  185   86  149  118   233   231   229   228   226\n",
       "3       4   46  Female  112  145  136  149   82   179   181   177   174   172\n",
       "4       5   64    Male  156  104  157   79   97   219   217   215   213   214\n",
       "5       6   49  Female  167  138   88  107  171   169   166   165   162   161\n",
       "6       7   63    Male  138  132  146  143  132   222   219   215   215   210\n",
       "7       8   63  Female  160  128  150  118  123   167   167   166   162   161\n",
       "8       9   52    Male  107  120  129  195  174   199   200   196   196   193\n",
       "9      10   45    Male  156  103  126  135   92   233   229   229   229   226\n",
       "10     11   61  Female   94  144  114  114  121   179   181   176   173   173\n",
       "11     12   49  Female  107   93  156  148  150   158   153   155   155   154\n",
       "12     13   61  Female  145  107  129   86  159   157   151   150   145   143\n",
       "13     14   59    Male  186  142  128  122  101   216   213   210   210   206\n",
       "14     15   52    Male  112  107  103   89  148   257   255   254   252   249\n",
       "15     16   60  Female  104  103  117   79  130   151   146   144   144   140"
      ]
     },
     "execution_count": 5,
     "metadata": {},
     "output_type": "execute_result"
    }
   ],
   "source": [
    "dietdf=pd.read_csv('dietstudy.csv')\n",
    "dietdf"
   ]
  },
  {
   "cell_type": "markdown",
   "metadata": {},
   "source": [
    "<pre>No CLT (since sample size < 30)\n",
    "\n",
    "paired t-test will be applied on both\n",
    "significance value=99%\n",
    "\n",
    "case1:\n",
    "H0: mean(tg before)=mean(tg after)\n",
    "HA: mean(tg before)!=mean(tg after)\n",
    "\n",
    "case1:\n",
    "H0: mean(wt before)=mean(wt after)\n",
    "HA: mean(wt before)!=mean(wt after)\n",
    "\n",
    "df=15\n",
    "critical interval= 99%\n",
    "2 tailed test\n",
    "a=0.01\n",
    "a/2=0.005\n",
    "ta/2=t(0.005,15)=2.95\n",
    "\n",
    "</pre>"
   ]
  },
  {
   "cell_type": "code",
   "execution_count": 89,
   "metadata": {},
   "outputs": [
    {
     "data": {
      "text/plain": [
       "Ttest_relResult(statistic=1.2000008533342437, pvalue=0.24874946576903698)"
      ]
     },
     "execution_count": 89,
     "metadata": {},
     "output_type": "execute_result"
    }
   ],
   "source": [
    "stats.ttest_rel(dietdf['tg0'],dietdf['tg4'])"
   ]
  },
  {
   "cell_type": "markdown",
   "metadata": {},
   "source": [
    "$$pvalue/2 > 0.01$$\n",
    "$$t=1.2 < ta/2$$\n",
    ">><pre>\n",
    "we could not reject the null hypothesis with 99% significance level\n",
    "thus, mean(tg before)=mean(tg after)\n",
    "</pre>"
   ]
  },
  {
   "cell_type": "code",
   "execution_count": 91,
   "metadata": {},
   "outputs": [
    {
     "data": {
      "text/plain": [
       "Ttest_relResult(statistic=11.174521688532522, pvalue=1.137689414996614e-08)"
      ]
     },
     "execution_count": 91,
     "metadata": {},
     "output_type": "execute_result"
    }
   ],
   "source": [
    "stats.ttest_rel(dietdf['wgt0'],dietdf['wgt4'])"
   ]
  },
  {
   "cell_type": "markdown",
   "metadata": {},
   "source": [
    "\n",
    " $$pvalue/2 < 0.01$$\n",
    "$$t=11 > ta/2$$\n",
    ">><pre>we reject the null hypothesis,H0  with 99% significance level\n",
    "an accept HA\n",
    "thus, mean(wt before)!=mean(wt after)\n",
    "</pre>"
   ]
  },
  {
   "cell_type": "markdown",
   "metadata": {},
   "source": [
    "><em>2. An analyst at a department store wants to evaluate a recent credit card promotion. To this end, 500 cardholders were randomly selected. Half received an ad promoting a reduced interest rate on purchases made over the next three months, and half received a standard seasonal ad. Is the promotion effective to increase sales? (Data set: creditpromo.csv)"
   ]
  },
  {
   "cell_type": "markdown",
   "metadata": {},
   "source": [
    "<pre>CLT (samples > 30) but no std given\n",
    "H0: mean(standard) = mean(prom)\n",
    "HA: mean(standard) != mean(prom)\n",
    "test : 2 sample t-test(Independent)\n",
    "significance value : 99%\n",
    "\n",
    "</pre>"
   ]
  },
  {
   "cell_type": "code",
   "execution_count": 92,
   "metadata": {},
   "outputs": [
    {
     "data": {
      "text/html": [
       "<div>\n",
       "<style scoped>\n",
       "    .dataframe tbody tr th:only-of-type {\n",
       "        vertical-align: middle;\n",
       "    }\n",
       "\n",
       "    .dataframe tbody tr th {\n",
       "        vertical-align: top;\n",
       "    }\n",
       "\n",
       "    .dataframe thead th {\n",
       "        text-align: right;\n",
       "    }\n",
       "</style>\n",
       "<table border=\"1\" class=\"dataframe\">\n",
       "  <thead>\n",
       "    <tr style=\"text-align: right;\">\n",
       "      <th></th>\n",
       "      <th>id</th>\n",
       "      <th>insert</th>\n",
       "      <th>dollars</th>\n",
       "    </tr>\n",
       "  </thead>\n",
       "  <tbody>\n",
       "    <tr>\n",
       "      <th>0</th>\n",
       "      <td>148</td>\n",
       "      <td>Standard</td>\n",
       "      <td>2232.771979</td>\n",
       "    </tr>\n",
       "    <tr>\n",
       "      <th>1</th>\n",
       "      <td>572</td>\n",
       "      <td>New Promotion</td>\n",
       "      <td>1403.807542</td>\n",
       "    </tr>\n",
       "    <tr>\n",
       "      <th>2</th>\n",
       "      <td>973</td>\n",
       "      <td>Standard</td>\n",
       "      <td>2327.092181</td>\n",
       "    </tr>\n",
       "    <tr>\n",
       "      <th>3</th>\n",
       "      <td>1096</td>\n",
       "      <td>Standard</td>\n",
       "      <td>1280.030541</td>\n",
       "    </tr>\n",
       "    <tr>\n",
       "      <th>4</th>\n",
       "      <td>1541</td>\n",
       "      <td>New Promotion</td>\n",
       "      <td>1513.563200</td>\n",
       "    </tr>\n",
       "  </tbody>\n",
       "</table>\n",
       "</div>"
      ],
      "text/plain": [
       "     id         insert      dollars\n",
       "0   148       Standard  2232.771979\n",
       "1   572  New Promotion  1403.807542\n",
       "2   973       Standard  2327.092181\n",
       "3  1096       Standard  1280.030541\n",
       "4  1541  New Promotion  1513.563200"
      ]
     },
     "execution_count": 92,
     "metadata": {},
     "output_type": "execute_result"
    }
   ],
   "source": [
    "credit=pd.read_csv(\"creditpromo.csv\")\n",
    "credit.head()"
   ]
  },
  {
   "cell_type": "code",
   "execution_count": 93,
   "metadata": {},
   "outputs": [],
   "source": [
    "standard=credit['dollars'][credit['insert']=='Standard']\n",
    "newpro=credit['dollars'][credit['insert']==\"New Promotion\"]"
   ]
  },
  {
   "cell_type": "code",
   "execution_count": 94,
   "metadata": {},
   "outputs": [
    {
     "data": {
      "text/plain": [
       "(250, 250)"
      ]
     },
     "execution_count": 94,
     "metadata": {},
     "output_type": "execute_result"
    }
   ],
   "source": [
    "standard.count(),newpro.count()"
   ]
  },
  {
   "cell_type": "markdown",
   "metadata": {},
   "source": [
    "<pre>\n",
    "critical interval= 99%\n",
    "2 tailed test\n",
    "\n",
    "a=0.01\n",
    "a/2=0.005\n",
    "ta/2=t(0.005,249)=2.6\n",
    "\n",
    "reject H0 if,\n",
    "t>ta/2\n",
    "</pre>"
   ]
  },
  {
   "cell_type": "code",
   "execution_count": 95,
   "metadata": {},
   "outputs": [
    {
     "data": {
      "text/plain": [
       "Ttest_indResult(statistic=-2.2604227264649963, pvalue=0.024225996894147814)"
      ]
     },
     "execution_count": 95,
     "metadata": {},
     "output_type": "execute_result"
    }
   ],
   "source": [
    "stats.ttest_ind(standard,newpro)"
   ]
  },
  {
   "cell_type": "markdown",
   "metadata": {},
   "source": [
    "\n",
    " $$pvalue/2 > 0.01$$\n",
    "$$|t|=2.26 < ta/2$$\n",
    ">><pre>\n",
    "we could not reject null hypothesis,H0  with 99% significance level\n",
    "thus,we can't say that promotion was effective to increase sales\n",
    "</pre>"
   ]
  },
  {
   "cell_type": "markdown",
   "metadata": {},
   "source": [
    "><em>3. An experiment is conducted to study the hybrid seed production of bottle gourd under open field conditions. The main aim of the investigation is to compare natural pollination and hand pollination. The data are collected on 10 randomly selected plants from each of natural pollination and hand pollination. The data are collected on fruit weight (kg), seed yield/plant (g) and seedling length (cm). (Data set: pollination.csv)\n",
    "<br>a. Is the overall population of Seed yield/plant (g) equals to 200?\n",
    "<br>b. Test whether the natural pollination and hand pollination under open field conditions are equally effective or are significantly different."
   ]
  },
  {
   "cell_type": "code",
   "execution_count": 96,
   "metadata": {},
   "outputs": [
    {
     "data": {
      "text/html": [
       "<div>\n",
       "<style scoped>\n",
       "    .dataframe tbody tr th:only-of-type {\n",
       "        vertical-align: middle;\n",
       "    }\n",
       "\n",
       "    .dataframe tbody tr th {\n",
       "        vertical-align: top;\n",
       "    }\n",
       "\n",
       "    .dataframe thead th {\n",
       "        text-align: right;\n",
       "    }\n",
       "</style>\n",
       "<table border=\"1\" class=\"dataframe\">\n",
       "  <thead>\n",
       "    <tr style=\"text-align: right;\">\n",
       "      <th></th>\n",
       "      <th>Group</th>\n",
       "      <th>Fruit_Wt</th>\n",
       "      <th>Seed_Yield_Plant</th>\n",
       "      <th>Seedling_length</th>\n",
       "    </tr>\n",
       "  </thead>\n",
       "  <tbody>\n",
       "    <tr>\n",
       "      <th>0</th>\n",
       "      <td>Natural</td>\n",
       "      <td>1.85</td>\n",
       "      <td>147.70</td>\n",
       "      <td>16.86</td>\n",
       "    </tr>\n",
       "    <tr>\n",
       "      <th>1</th>\n",
       "      <td>Natural</td>\n",
       "      <td>1.86</td>\n",
       "      <td>136.86</td>\n",
       "      <td>16.77</td>\n",
       "    </tr>\n",
       "    <tr>\n",
       "      <th>2</th>\n",
       "      <td>Natural</td>\n",
       "      <td>1.83</td>\n",
       "      <td>149.97</td>\n",
       "      <td>16.35</td>\n",
       "    </tr>\n",
       "    <tr>\n",
       "      <th>3</th>\n",
       "      <td>Natural</td>\n",
       "      <td>1.89</td>\n",
       "      <td>172.33</td>\n",
       "      <td>18.26</td>\n",
       "    </tr>\n",
       "    <tr>\n",
       "      <th>4</th>\n",
       "      <td>Natural</td>\n",
       "      <td>1.80</td>\n",
       "      <td>144.46</td>\n",
       "      <td>17.90</td>\n",
       "    </tr>\n",
       "    <tr>\n",
       "      <th>5</th>\n",
       "      <td>Natural</td>\n",
       "      <td>1.88</td>\n",
       "      <td>138.30</td>\n",
       "      <td>16.95</td>\n",
       "    </tr>\n",
       "    <tr>\n",
       "      <th>6</th>\n",
       "      <td>Natural</td>\n",
       "      <td>1.89</td>\n",
       "      <td>150.58</td>\n",
       "      <td>18.15</td>\n",
       "    </tr>\n",
       "    <tr>\n",
       "      <th>7</th>\n",
       "      <td>Natural</td>\n",
       "      <td>1.79</td>\n",
       "      <td>140.99</td>\n",
       "      <td>18.86</td>\n",
       "    </tr>\n",
       "    <tr>\n",
       "      <th>8</th>\n",
       "      <td>Natural</td>\n",
       "      <td>1.85</td>\n",
       "      <td>140.57</td>\n",
       "      <td>18.39</td>\n",
       "    </tr>\n",
       "    <tr>\n",
       "      <th>9</th>\n",
       "      <td>Natural</td>\n",
       "      <td>1.84</td>\n",
       "      <td>138.33</td>\n",
       "      <td>18.58</td>\n",
       "    </tr>\n",
       "    <tr>\n",
       "      <th>10</th>\n",
       "      <td>Hand</td>\n",
       "      <td>2.58</td>\n",
       "      <td>224.26</td>\n",
       "      <td>18.18</td>\n",
       "    </tr>\n",
       "    <tr>\n",
       "      <th>11</th>\n",
       "      <td>Hand</td>\n",
       "      <td>2.74</td>\n",
       "      <td>197.50</td>\n",
       "      <td>18.07</td>\n",
       "    </tr>\n",
       "    <tr>\n",
       "      <th>12</th>\n",
       "      <td>Hand</td>\n",
       "      <td>2.58</td>\n",
       "      <td>230.34</td>\n",
       "      <td>19.07</td>\n",
       "    </tr>\n",
       "    <tr>\n",
       "      <th>13</th>\n",
       "      <td>Hand</td>\n",
       "      <td>2.62</td>\n",
       "      <td>217.05</td>\n",
       "      <td>19.00</td>\n",
       "    </tr>\n",
       "    <tr>\n",
       "      <th>14</th>\n",
       "      <td>Hand</td>\n",
       "      <td>2.68</td>\n",
       "      <td>233.84</td>\n",
       "      <td>18.00</td>\n",
       "    </tr>\n",
       "    <tr>\n",
       "      <th>15</th>\n",
       "      <td>Hand</td>\n",
       "      <td>2.56</td>\n",
       "      <td>216.52</td>\n",
       "      <td>18.49</td>\n",
       "    </tr>\n",
       "    <tr>\n",
       "      <th>16</th>\n",
       "      <td>Hand</td>\n",
       "      <td>2.34</td>\n",
       "      <td>211.93</td>\n",
       "      <td>17.45</td>\n",
       "    </tr>\n",
       "    <tr>\n",
       "      <th>17</th>\n",
       "      <td>Hand</td>\n",
       "      <td>2.67</td>\n",
       "      <td>210.37</td>\n",
       "      <td>18.97</td>\n",
       "    </tr>\n",
       "    <tr>\n",
       "      <th>18</th>\n",
       "      <td>Hand</td>\n",
       "      <td>2.45</td>\n",
       "      <td>199.87</td>\n",
       "      <td>19.31</td>\n",
       "    </tr>\n",
       "    <tr>\n",
       "      <th>19</th>\n",
       "      <td>Hand</td>\n",
       "      <td>2.44</td>\n",
       "      <td>214.30</td>\n",
       "      <td>19.36</td>\n",
       "    </tr>\n",
       "  </tbody>\n",
       "</table>\n",
       "</div>"
      ],
      "text/plain": [
       "      Group  Fruit_Wt  Seed_Yield_Plant  Seedling_length\n",
       "0   Natural      1.85            147.70            16.86\n",
       "1   Natural      1.86            136.86            16.77\n",
       "2   Natural      1.83            149.97            16.35\n",
       "3   Natural      1.89            172.33            18.26\n",
       "4   Natural      1.80            144.46            17.90\n",
       "5   Natural      1.88            138.30            16.95\n",
       "6   Natural      1.89            150.58            18.15\n",
       "7   Natural      1.79            140.99            18.86\n",
       "8   Natural      1.85            140.57            18.39\n",
       "9   Natural      1.84            138.33            18.58\n",
       "10     Hand      2.58            224.26            18.18\n",
       "11     Hand      2.74            197.50            18.07\n",
       "12     Hand      2.58            230.34            19.07\n",
       "13     Hand      2.62            217.05            19.00\n",
       "14     Hand      2.68            233.84            18.00\n",
       "15     Hand      2.56            216.52            18.49\n",
       "16     Hand      2.34            211.93            17.45\n",
       "17     Hand      2.67            210.37            18.97\n",
       "18     Hand      2.45            199.87            19.31\n",
       "19     Hand      2.44            214.30            19.36"
      ]
     },
     "execution_count": 96,
     "metadata": {},
     "output_type": "execute_result"
    }
   ],
   "source": [
    "poll=pd.read_csv('pollination.csv')\n",
    "poll"
   ]
  },
  {
   "cell_type": "markdown",
   "metadata": {},
   "source": [
    "<pre>No CLT (samples < 30) \n",
    "H0: mean(Seed yield/plant) = 200\n",
    "HA: mean(Seed yield/plant) != 200 \n",
    "test : 1 sample t-test\n",
    "significance value : 99%\n",
    "</pre>\n"
   ]
  },
  {
   "cell_type": "code",
   "execution_count": 97,
   "metadata": {},
   "outputs": [
    {
     "data": {
      "text/plain": [
       "Ttest_1sampResult(statistic=-2.3009121248548645, pvalue=0.032891040921283025)"
      ]
     },
     "execution_count": 97,
     "metadata": {},
     "output_type": "execute_result"
    }
   ],
   "source": [
    "stats.ttest_1samp(poll.Seed_Yield_Plant,200)"
   ]
  },
  {
   "cell_type": "markdown",
   "metadata": {},
   "source": [
    " $$pvalue/2 > 0.01$$\n",
    "$$|t| = 2.3 < ta/2$$\n",
    ">><pre>we can not reject the null hypothesis,H0  with 99% significance level\n",
    "thus we <b>cannot</b> say that overall population of seed_yield/plant != 200\n",
    "</pre>"
   ]
  },
  {
   "cell_type": "code",
   "execution_count": 98,
   "metadata": {},
   "outputs": [
    {
     "data": {
      "text/plain": [
       "180.8035"
      ]
     },
     "execution_count": 98,
     "metadata": {},
     "output_type": "execute_result"
    }
   ],
   "source": [
    "poll.Seed_Yield_Plant.mean()"
   ]
  },
  {
   "cell_type": "markdown",
   "metadata": {},
   "source": [
    "<pre>\n",
    "\n",
    "2 tail test \n",
    "\n",
    "Case 1 :\n",
    "H0: mean(hand poll Fruit_Wt) = mean(natural poll Fruit_Wt)\n",
    "HA: mean(hand poll Fruit_Wt) != mean(natural poll Fruit_Wt)\n",
    "test : 2 sample t-test(Independent)\n",
    "significance value : 99%\n",
    "\n",
    "Case 2 :\n",
    "H0: mean(hand poll Seed_Yield_Plant) = mean(natural poll Seed_Yield_Plant)\n",
    "HA: mean(hand poll Fruit_Wt) != mean(natural poll Fruit_Wt)\n",
    "test : 2 sample t-test(Independent)\n",
    "significance value : 99%\n",
    "\n",
    "Case 3 :\n",
    "H0: mean(hand poll Seedling_len) = mean(natural poll Seedling_len)\n",
    "HA: mean(hand poll Seedling_len) != mean(natural poll Seedling_len)\n",
    "test : 2 sample t-test(Independent)\n",
    "significance value : 99%\n",
    "\n",
    "\n",
    "df=9\n",
    "a=0.01\n",
    "a/2=0.005\n",
    "ta/2=3.2\n",
    "\n",
    "reject null hypothesis if,\n",
    "|t|>ta/2\n",
    "\n",
    "</pre>\n"
   ]
  },
  {
   "cell_type": "code",
   "execution_count": 99,
   "metadata": {},
   "outputs": [],
   "source": [
    "f1 = poll['Fruit_Wt'][poll.Group == 'Natural']\n",
    "f2 = poll['Fruit_Wt'][poll.Group == 'Hand']"
   ]
  },
  {
   "cell_type": "code",
   "execution_count": 100,
   "metadata": {},
   "outputs": [
    {
     "data": {
      "text/plain": [
       "Ttest_indResult(statistic=-17.669989614440286, pvalue=4.306871213074868e-09)"
      ]
     },
     "execution_count": 100,
     "metadata": {},
     "output_type": "execute_result"
    }
   ],
   "source": [
    "stats.ttest_ind(f1, f2,equal_var=False)"
   ]
  },
  {
   "cell_type": "markdown",
   "metadata": {},
   "source": [
    "$$pvalue<0.01$$\n",
    "\n",
    "$$ |t|=17.6>ta/2 $$\n",
    "\n",
    ">><pre>\n",
    "we reject H0 with 99% significance.\n",
    "Thus,there is significant difference for natural and hand pollination\n",
    "<pre>"
   ]
  },
  {
   "cell_type": "code",
   "execution_count": 101,
   "metadata": {},
   "outputs": [],
   "source": [
    "s1 = poll['Seed_Yield_Plant'][poll.Group == 'Natural']\n",
    "s2 = poll['Seed_Yield_Plant'][poll.Group == 'Hand']"
   ]
  },
  {
   "cell_type": "code",
   "execution_count": 102,
   "metadata": {},
   "outputs": [
    {
     "data": {
      "text/plain": [
       "Ttest_indResult(statistic=-13.958260515902547, pvalue=5.136161282685624e-11)"
      ]
     },
     "execution_count": 102,
     "metadata": {},
     "output_type": "execute_result"
    }
   ],
   "source": [
    "stats.ttest_ind(s1,s2,equal_var=False)"
   ]
  },
  {
   "cell_type": "markdown",
   "metadata": {},
   "source": [
    "$$pvalue<0.01$$\n",
    "\n",
    "$$ |t|=13.9>ta/2 $$\n",
    "\n",
    ">><pre>\n",
    "we reject H0 with 99% significance.\n",
    "Thus,there is significant difference for natural and hand pollination\n",
    "<pre>"
   ]
  },
  {
   "cell_type": "code",
   "execution_count": 103,
   "metadata": {},
   "outputs": [],
   "source": [
    "sl1 = poll['Seedling_length'][poll.Group == 'Natural']\n",
    "sl2 = poll['Seedling_length'][poll.Group == 'Hand']"
   ]
  },
  {
   "cell_type": "code",
   "execution_count": 104,
   "metadata": {},
   "outputs": [
    {
     "data": {
      "text/plain": [
       "Ttest_indResult(statistic=-2.542229999657055, pvalue=0.021430608378161634)"
      ]
     },
     "execution_count": 104,
     "metadata": {},
     "output_type": "execute_result"
    }
   ],
   "source": [
    "stats.ttest_ind(sl1,sl2,equal_var=False)"
   ]
  },
  {
   "cell_type": "markdown",
   "metadata": {},
   "source": [
    "$$pvalue>0.01$$\n",
    "\n",
    "$$ |t|=2.5|>ta/2 $$\n",
    "\n",
    ">><pre>\n",
    "we <b>cannot</b> reject H0 with 99% significance.\n",
    "Thus,there is <b>not</b> significant difference for natural and hand pollination\n",
    "<pre>"
   ]
  },
  {
   "cell_type": "markdown",
   "metadata": {},
   "source": [
    "><em>4. An electronics firm is developing a new DVD player in response to customer requests. Using a prototype, the marketing team has collected focus data for different age groups viz. Under 25; 25-34; 35-44; 45-54; 55-64; 65 and above. Do you think that consumers of various ages rated the design differently? (Data set: dvdplayer.csv)."
   ]
  },
  {
   "cell_type": "code",
   "execution_count": 24,
   "metadata": {},
   "outputs": [
    {
     "data": {
      "text/html": [
       "<div>\n",
       "<style scoped>\n",
       "    .dataframe tbody tr th:only-of-type {\n",
       "        vertical-align: middle;\n",
       "    }\n",
       "\n",
       "    .dataframe tbody tr th {\n",
       "        vertical-align: top;\n",
       "    }\n",
       "\n",
       "    .dataframe thead th {\n",
       "        text-align: right;\n",
       "    }\n",
       "</style>\n",
       "<table border=\"1\" class=\"dataframe\">\n",
       "  <thead>\n",
       "    <tr style=\"text-align: right;\">\n",
       "      <th></th>\n",
       "      <th>agegroup</th>\n",
       "      <th>dvdscore</th>\n",
       "    </tr>\n",
       "  </thead>\n",
       "  <tbody>\n",
       "    <tr>\n",
       "      <th>0</th>\n",
       "      <td>65 and over</td>\n",
       "      <td>38.454803</td>\n",
       "    </tr>\n",
       "    <tr>\n",
       "      <th>1</th>\n",
       "      <td>55-64</td>\n",
       "      <td>17.669677</td>\n",
       "    </tr>\n",
       "    <tr>\n",
       "      <th>2</th>\n",
       "      <td>65 and over</td>\n",
       "      <td>31.704307</td>\n",
       "    </tr>\n",
       "    <tr>\n",
       "      <th>3</th>\n",
       "      <td>65 and over</td>\n",
       "      <td>25.924460</td>\n",
       "    </tr>\n",
       "    <tr>\n",
       "      <th>4</th>\n",
       "      <td>Under 25</td>\n",
       "      <td>30.450007</td>\n",
       "    </tr>\n",
       "  </tbody>\n",
       "</table>\n",
       "</div>"
      ],
      "text/plain": [
       "      agegroup   dvdscore\n",
       "0  65 and over  38.454803\n",
       "1        55-64  17.669677\n",
       "2  65 and over  31.704307\n",
       "3  65 and over  25.924460\n",
       "4     Under 25  30.450007"
      ]
     },
     "execution_count": 24,
     "metadata": {},
     "output_type": "execute_result"
    }
   ],
   "source": [
    "dvd=pd.read_csv('dvdplayer.csv')\n",
    "dvd.head()"
   ]
  },
  {
   "cell_type": "code",
   "execution_count": 121,
   "metadata": {},
   "outputs": [
    {
     "data": {
      "text/plain": [
       "65 and over    17\n",
       "Under 25       13\n",
       "35-44          12\n",
       "45-54          10\n",
       "25-34          10\n",
       "55-64           6\n",
       "Name: agegroup, dtype: int64"
      ]
     },
     "execution_count": 121,
     "metadata": {},
     "output_type": "execute_result"
    }
   ],
   "source": [
    "dvd.agegroup.value_counts()"
   ]
  },
  {
   "cell_type": "markdown",
   "metadata": {},
   "source": [
    "<pre>\n",
    "H0: There is similar difference Between and within the groups\n",
    "HA: There is more difference between groups than within groups\n",
    "\n",
    "One-Way Anova Test \n",
    "    \n",
    "</pre>"
   ]
  },
  {
   "cell_type": "code",
   "execution_count": 125,
   "metadata": {},
   "outputs": [],
   "source": [
    "d1=dvd['dvdscore'][dvd['agegroup']=='65 and over']\n",
    "d2=dvd['dvdscore'][dvd['agegroup']=='Under 25']\n",
    "d3=dvd['dvdscore'][dvd['agegroup']=='35-44']\n",
    "d4=dvd['dvdscore'][dvd['agegroup']=='45-54']\n",
    "d5=dvd['dvdscore'][dvd['agegroup']=='25-34']\n",
    "d6=dvd['dvdscore'][dvd['agegroup']=='55-64']"
   ]
  },
  {
   "cell_type": "markdown",
   "metadata": {},
   "source": [
    "<pre>\n",
    "no of var,c=6\n",
    "no of obs,n=68\n",
    "df1=c-1=5\n",
    "df2=n-c=62\n",
    "a=0.01\n",
    "Fa=9.2\n",
    "\n",
    "reject H0,if\n",
    "F > Fa\n",
    "</pre>"
   ]
  },
  {
   "cell_type": "code",
   "execution_count": 126,
   "metadata": {},
   "outputs": [
    {
     "data": {
      "text/plain": [
       "F_onewayResult(statistic=6.992526962676517, pvalue=3.087324905679639e-05)"
      ]
     },
     "execution_count": 126,
     "metadata": {},
     "output_type": "execute_result"
    }
   ],
   "source": [
    "stats.f_oneway(d1,d2,d3,d4,d5,d6)"
   ]
  },
  {
   "cell_type": "markdown",
   "metadata": {},
   "source": [
    "$$pvalue>0.01$$\n",
    "$$F<Fa$$\n",
    ">><pre>\n",
    "We cannot reject the H0,\n",
    "thus ,we can say that comsumers of different ages have <b>not rated differently</b>\n",
    "</pre>"
   ]
  },
  {
   "cell_type": "markdown",
   "metadata": {},
   "source": [
    "><em>5. A survey was conducted among 2800 customers on several demographic characteristics. Working status, sex, age, age-group, race, happiness, no. of child, marital status, educational qualifications, income group etc. had been captured for that purpose. (Data set: sample_survey.csv).\n",
    "<br>a. Is there any relationship in between labour force status with marital status?\n",
    "<br>b. Do you think educational qualification is somehow controlling the marital status?\n",
    "<br>c. Is happiness is driven by earnings or marital status?"
   ]
  },
  {
   "cell_type": "code",
   "execution_count": 23,
   "metadata": {
    "scrolled": true
   },
   "outputs": [
    {
     "data": {
      "text/html": [
       "<div>\n",
       "<style scoped>\n",
       "    .dataframe tbody tr th:only-of-type {\n",
       "        vertical-align: middle;\n",
       "    }\n",
       "\n",
       "    .dataframe tbody tr th {\n",
       "        vertical-align: top;\n",
       "    }\n",
       "\n",
       "    .dataframe thead th {\n",
       "        text-align: right;\n",
       "    }\n",
       "</style>\n",
       "<table border=\"1\" class=\"dataframe\">\n",
       "  <thead>\n",
       "    <tr style=\"text-align: right;\">\n",
       "      <th></th>\n",
       "      <th>id</th>\n",
       "      <th>wrkstat</th>\n",
       "      <th>marital</th>\n",
       "      <th>childs</th>\n",
       "      <th>age</th>\n",
       "      <th>educ</th>\n",
       "      <th>paeduc</th>\n",
       "      <th>maeduc</th>\n",
       "      <th>speduc</th>\n",
       "      <th>degree</th>\n",
       "      <th>...</th>\n",
       "      <th>agecat</th>\n",
       "      <th>childcat</th>\n",
       "      <th>news1</th>\n",
       "      <th>news2</th>\n",
       "      <th>news3</th>\n",
       "      <th>news4</th>\n",
       "      <th>news5</th>\n",
       "      <th>car1</th>\n",
       "      <th>car2</th>\n",
       "      <th>car3</th>\n",
       "    </tr>\n",
       "  </thead>\n",
       "  <tbody>\n",
       "    <tr>\n",
       "      <th>0</th>\n",
       "      <td>1</td>\n",
       "      <td>Working full time</td>\n",
       "      <td>Divorced</td>\n",
       "      <td>2.0</td>\n",
       "      <td>60.0</td>\n",
       "      <td>12.0</td>\n",
       "      <td>12.0</td>\n",
       "      <td>12.0</td>\n",
       "      <td>NaN</td>\n",
       "      <td>High school</td>\n",
       "      <td>...</td>\n",
       "      <td>55 to 64</td>\n",
       "      <td>1-2</td>\n",
       "      <td>No</td>\n",
       "      <td>No</td>\n",
       "      <td>No</td>\n",
       "      <td>No</td>\n",
       "      <td>No</td>\n",
       "      <td>American</td>\n",
       "      <td>Japanese</td>\n",
       "      <td>Japanese</td>\n",
       "    </tr>\n",
       "    <tr>\n",
       "      <th>1</th>\n",
       "      <td>2</td>\n",
       "      <td>Working part-time</td>\n",
       "      <td>Never married</td>\n",
       "      <td>0.0</td>\n",
       "      <td>27.0</td>\n",
       "      <td>17.0</td>\n",
       "      <td>20.0</td>\n",
       "      <td>NaN</td>\n",
       "      <td>NaN</td>\n",
       "      <td>Junior college</td>\n",
       "      <td>...</td>\n",
       "      <td>25 to 34</td>\n",
       "      <td>None</td>\n",
       "      <td>No</td>\n",
       "      <td>No</td>\n",
       "      <td>Yes</td>\n",
       "      <td>No</td>\n",
       "      <td>No</td>\n",
       "      <td>American</td>\n",
       "      <td>German</td>\n",
       "      <td>Japanese</td>\n",
       "    </tr>\n",
       "    <tr>\n",
       "      <th>2</th>\n",
       "      <td>3</td>\n",
       "      <td>Working full time</td>\n",
       "      <td>Married</td>\n",
       "      <td>2.0</td>\n",
       "      <td>36.0</td>\n",
       "      <td>12.0</td>\n",
       "      <td>12.0</td>\n",
       "      <td>12.0</td>\n",
       "      <td>16.0</td>\n",
       "      <td>High school</td>\n",
       "      <td>...</td>\n",
       "      <td>35 to 44</td>\n",
       "      <td>1-2</td>\n",
       "      <td>No</td>\n",
       "      <td>No</td>\n",
       "      <td>No</td>\n",
       "      <td>Yes</td>\n",
       "      <td>Yes</td>\n",
       "      <td>American</td>\n",
       "      <td>American</td>\n",
       "      <td>NaN</td>\n",
       "    </tr>\n",
       "    <tr>\n",
       "      <th>3</th>\n",
       "      <td>4</td>\n",
       "      <td>Working full time</td>\n",
       "      <td>Never married</td>\n",
       "      <td>0.0</td>\n",
       "      <td>21.0</td>\n",
       "      <td>13.0</td>\n",
       "      <td>NaN</td>\n",
       "      <td>12.0</td>\n",
       "      <td>NaN</td>\n",
       "      <td>High school</td>\n",
       "      <td>...</td>\n",
       "      <td>Less than 25</td>\n",
       "      <td>None</td>\n",
       "      <td>No</td>\n",
       "      <td>No</td>\n",
       "      <td>No</td>\n",
       "      <td>Yes</td>\n",
       "      <td>Yes</td>\n",
       "      <td>American</td>\n",
       "      <td>Other</td>\n",
       "      <td>NaN</td>\n",
       "    </tr>\n",
       "    <tr>\n",
       "      <th>4</th>\n",
       "      <td>5</td>\n",
       "      <td>Working full time</td>\n",
       "      <td>Never married</td>\n",
       "      <td>0.0</td>\n",
       "      <td>35.0</td>\n",
       "      <td>16.0</td>\n",
       "      <td>NaN</td>\n",
       "      <td>12.0</td>\n",
       "      <td>NaN</td>\n",
       "      <td>Bachelor</td>\n",
       "      <td>...</td>\n",
       "      <td>35 to 44</td>\n",
       "      <td>None</td>\n",
       "      <td>No</td>\n",
       "      <td>No</td>\n",
       "      <td>No</td>\n",
       "      <td>No</td>\n",
       "      <td>No</td>\n",
       "      <td>American</td>\n",
       "      <td>American</td>\n",
       "      <td>Korean</td>\n",
       "    </tr>\n",
       "  </tbody>\n",
       "</table>\n",
       "<p>5 rows × 46 columns</p>\n",
       "</div>"
      ],
      "text/plain": [
       "   id            wrkstat        marital  childs   age  educ  paeduc  maeduc  \\\n",
       "0   1  Working full time       Divorced     2.0  60.0  12.0    12.0    12.0   \n",
       "1   2  Working part-time  Never married     0.0  27.0  17.0    20.0     NaN   \n",
       "2   3  Working full time        Married     2.0  36.0  12.0    12.0    12.0   \n",
       "3   4  Working full time  Never married     0.0  21.0  13.0     NaN    12.0   \n",
       "4   5  Working full time  Never married     0.0  35.0  16.0     NaN    12.0   \n",
       "\n",
       "   speduc          degree    ...           agecat childcat news1 news2  news3  \\\n",
       "0     NaN     High school    ...         55 to 64      1-2    No    No     No   \n",
       "1     NaN  Junior college    ...         25 to 34     None    No    No    Yes   \n",
       "2    16.0     High school    ...         35 to 44      1-2    No    No     No   \n",
       "3     NaN     High school    ...     Less than 25     None    No    No     No   \n",
       "4     NaN        Bachelor    ...         35 to 44     None    No    No     No   \n",
       "\n",
       "  news4 news5      car1      car2      car3  \n",
       "0    No    No  American  Japanese  Japanese  \n",
       "1    No    No  American    German  Japanese  \n",
       "2   Yes   Yes  American  American       NaN  \n",
       "3   Yes   Yes  American     Other       NaN  \n",
       "4    No    No  American  American    Korean  \n",
       "\n",
       "[5 rows x 46 columns]"
      ]
     },
     "execution_count": 23,
     "metadata": {},
     "output_type": "execute_result"
    }
   ],
   "source": [
    "surv=pd.read_csv('sample_survey.csv')\n",
    "surv.head()"
   ]
  },
  {
   "cell_type": "markdown",
   "metadata": {},
   "source": [
    "<pre>\n",
    "case 1:\n",
    "H0: Two categorical variables are independent.\n",
    "HA: Two categorical variables are not indeoendent.\n",
    "\n",
    "chi-square test will be applied.\n",
    "for wrkstat,marital status"
   ]
  },
  {
   "cell_type": "code",
   "execution_count": 14,
   "metadata": {},
   "outputs": [
    {
     "data": {
      "text/html": [
       "<div>\n",
       "<style scoped>\n",
       "    .dataframe tbody tr th:only-of-type {\n",
       "        vertical-align: middle;\n",
       "    }\n",
       "\n",
       "    .dataframe tbody tr th {\n",
       "        vertical-align: top;\n",
       "    }\n",
       "\n",
       "    .dataframe thead th {\n",
       "        text-align: right;\n",
       "    }\n",
       "</style>\n",
       "<table border=\"1\" class=\"dataframe\">\n",
       "  <thead>\n",
       "    <tr style=\"text-align: right;\">\n",
       "      <th>wrkstat</th>\n",
       "      <th>Keeping house</th>\n",
       "      <th>Other</th>\n",
       "      <th>Retired</th>\n",
       "      <th>School</th>\n",
       "      <th>Temporarily not working</th>\n",
       "      <th>Unemployed, laid off</th>\n",
       "      <th>Working full time</th>\n",
       "      <th>Working part-time</th>\n",
       "    </tr>\n",
       "    <tr>\n",
       "      <th>marital</th>\n",
       "      <th></th>\n",
       "      <th></th>\n",
       "      <th></th>\n",
       "      <th></th>\n",
       "      <th></th>\n",
       "      <th></th>\n",
       "      <th></th>\n",
       "      <th></th>\n",
       "    </tr>\n",
       "  </thead>\n",
       "  <tbody>\n",
       "    <tr>\n",
       "      <th>Divorced</th>\n",
       "      <td>25</td>\n",
       "      <td>12</td>\n",
       "      <td>53</td>\n",
       "      <td>7</td>\n",
       "      <td>9</td>\n",
       "      <td>10</td>\n",
       "      <td>295</td>\n",
       "      <td>35</td>\n",
       "    </tr>\n",
       "    <tr>\n",
       "      <th>Married</th>\n",
       "      <td>200</td>\n",
       "      <td>16</td>\n",
       "      <td>168</td>\n",
       "      <td>9</td>\n",
       "      <td>23</td>\n",
       "      <td>13</td>\n",
       "      <td>778</td>\n",
       "      <td>138</td>\n",
       "    </tr>\n",
       "    <tr>\n",
       "      <th>Never married</th>\n",
       "      <td>35</td>\n",
       "      <td>14</td>\n",
       "      <td>17</td>\n",
       "      <td>60</td>\n",
       "      <td>11</td>\n",
       "      <td>32</td>\n",
       "      <td>392</td>\n",
       "      <td>102</td>\n",
       "    </tr>\n",
       "    <tr>\n",
       "      <th>Separated</th>\n",
       "      <td>13</td>\n",
       "      <td>4</td>\n",
       "      <td>6</td>\n",
       "      <td>2</td>\n",
       "      <td>1</td>\n",
       "      <td>0</td>\n",
       "      <td>58</td>\n",
       "      <td>9</td>\n",
       "    </tr>\n",
       "    <tr>\n",
       "      <th>Widowed</th>\n",
       "      <td>55</td>\n",
       "      <td>8</td>\n",
       "      <td>150</td>\n",
       "      <td>1</td>\n",
       "      <td>2</td>\n",
       "      <td>3</td>\n",
       "      <td>44</td>\n",
       "      <td>20</td>\n",
       "    </tr>\n",
       "  </tbody>\n",
       "</table>\n",
       "</div>"
      ],
      "text/plain": [
       "wrkstat        Keeping house  Other  Retired  School  Temporarily not working  \\\n",
       "marital                                                                         \n",
       "Divorced                  25     12       53       7                        9   \n",
       "Married                  200     16      168       9                       23   \n",
       "Never married             35     14       17      60                       11   \n",
       "Separated                 13      4        6       2                        1   \n",
       "Widowed                   55      8      150       1                        2   \n",
       "\n",
       "wrkstat        Unemployed, laid off  Working full time  Working part-time  \n",
       "marital                                                                    \n",
       "Divorced                         10                295                 35  \n",
       "Married                          13                778                138  \n",
       "Never married                    32                392                102  \n",
       "Separated                         0                 58                  9  \n",
       "Widowed                           3                 44                 20  "
      ]
     },
     "execution_count": 14,
     "metadata": {},
     "output_type": "execute_result"
    }
   ],
   "source": [
    "work=pd.crosstab(surv.marital,surv.wrkstat)\n",
    "work"
   ]
  },
  {
   "cell_type": "code",
   "execution_count": 15,
   "metadata": {
    "scrolled": true
   },
   "outputs": [
    {
     "data": {
      "text/plain": [
       "(729.2421426572284,\n",
       " 1.4875268409067568e-135,\n",
       " 28,\n",
       " array([[ 51.69187279,   8.51024735,  62.09328622,  12.45017668,\n",
       "           7.24946996,   9.14063604, 246.95477032,  47.90954064],\n",
       "        [155.8869258 ,  25.66431095, 187.25441696,  37.5459364 ,\n",
       "          21.86219081,  27.56537102, 744.74028269, 144.48056537],\n",
       "        [ 76.84240283,  12.65088339,  92.30459364,  18.50777385,\n",
       "          10.77667845,  13.58798587, 367.10989399,  71.21978799],\n",
       "        [ 10.77879859,   1.7745583 ,  12.94770318,   2.59611307,\n",
       "           1.51166078,   1.90600707,  51.495053  ,   9.99010601],\n",
       "        [ 32.8       ,   5.4       ,  39.4       ,   7.9       ,\n",
       "           4.6       ,   5.8       , 156.7       ,  30.4       ]]))"
      ]
     },
     "execution_count": 15,
     "metadata": {},
     "output_type": "execute_result"
    }
   ],
   "source": [
    "stats.chi2_contingency(observed= work)"
   ]
  },
  {
   "cell_type": "markdown",
   "metadata": {},
   "source": [
    "$$pvalue < 0.01$$\n",
    ">><pre>I rejected the null and there is relation between labour force status with marital status</pre>"
   ]
  },
  {
   "cell_type": "markdown",
   "metadata": {},
   "source": [
    "<pre>\n",
    "case 2:\n",
    "H0: Two categorical variables are independent.\n",
    "HA: Two categorical variables are not indeoendent.\n",
    "\n",
    "chi-square test will be applied.\n",
    "for marital status,degree"
   ]
  },
  {
   "cell_type": "code",
   "execution_count": 35,
   "metadata": {},
   "outputs": [
    {
     "data": {
      "text/html": [
       "<div>\n",
       "<style scoped>\n",
       "    .dataframe tbody tr th:only-of-type {\n",
       "        vertical-align: middle;\n",
       "    }\n",
       "\n",
       "    .dataframe tbody tr th {\n",
       "        vertical-align: top;\n",
       "    }\n",
       "\n",
       "    .dataframe thead th {\n",
       "        text-align: right;\n",
       "    }\n",
       "</style>\n",
       "<table border=\"1\" class=\"dataframe\">\n",
       "  <thead>\n",
       "    <tr style=\"text-align: right;\">\n",
       "      <th>marital</th>\n",
       "      <th>Divorced</th>\n",
       "      <th>Married</th>\n",
       "      <th>Never married</th>\n",
       "      <th>Separated</th>\n",
       "      <th>Widowed</th>\n",
       "    </tr>\n",
       "    <tr>\n",
       "      <th>degree</th>\n",
       "      <th></th>\n",
       "      <th></th>\n",
       "      <th></th>\n",
       "      <th></th>\n",
       "      <th></th>\n",
       "    </tr>\n",
       "  </thead>\n",
       "  <tbody>\n",
       "    <tr>\n",
       "      <th>Bachelor</th>\n",
       "      <td>58</td>\n",
       "      <td>251</td>\n",
       "      <td>129</td>\n",
       "      <td>12</td>\n",
       "      <td>28</td>\n",
       "    </tr>\n",
       "    <tr>\n",
       "      <th>Graduate</th>\n",
       "      <td>29</td>\n",
       "      <td>123</td>\n",
       "      <td>41</td>\n",
       "      <td>3</td>\n",
       "      <td>9</td>\n",
       "    </tr>\n",
       "    <tr>\n",
       "      <th>High school</th>\n",
       "      <td>241</td>\n",
       "      <td>686</td>\n",
       "      <td>367</td>\n",
       "      <td>58</td>\n",
       "      <td>148</td>\n",
       "    </tr>\n",
       "    <tr>\n",
       "      <th>Junior college</th>\n",
       "      <td>45</td>\n",
       "      <td>108</td>\n",
       "      <td>46</td>\n",
       "      <td>3</td>\n",
       "      <td>6</td>\n",
       "    </tr>\n",
       "    <tr>\n",
       "      <th>LT High school</th>\n",
       "      <td>70</td>\n",
       "      <td>174</td>\n",
       "      <td>77</td>\n",
       "      <td>17</td>\n",
       "      <td>92</td>\n",
       "    </tr>\n",
       "  </tbody>\n",
       "</table>\n",
       "</div>"
      ],
      "text/plain": [
       "marital         Divorced  Married  Never married  Separated  Widowed\n",
       "degree                                                              \n",
       "Bachelor              58      251            129         12       28\n",
       "Graduate              29      123             41          3        9\n",
       "High school          241      686            367         58      148\n",
       "Junior college        45      108             46          3        6\n",
       "LT High school        70      174             77         17       92"
      ]
     },
     "execution_count": 35,
     "metadata": {},
     "output_type": "execute_result"
    }
   ],
   "source": [
    "edu=pd.crosstab(surv.degree,surv.marital)\n",
    "edu"
   ]
  },
  {
   "cell_type": "code",
   "execution_count": 36,
   "metadata": {},
   "outputs": [
    {
     "data": {
      "text/plain": [
       "(122.68449020508541,\n",
       " 1.6707923432360119e-18,\n",
       " 16,\n",
       " array([[ 75.06345268, 227.39312301, 111.83268345,  15.75824176,\n",
       "          47.95249911],\n",
       "        [ 32.19248493,  97.52215526,  47.9617157 ,   6.75824176,\n",
       "          20.56540234],\n",
       "        [235.55476781, 713.57674583, 350.9393832 ,  49.45054945,\n",
       "         150.4785537 ],\n",
       "        [ 32.66359447,  98.94930876,  48.66359447,   6.85714286,\n",
       "          20.86635945],\n",
       "        [ 67.52570011, 204.55866714, 100.60262318,  14.17582418,\n",
       "          43.1371854 ]]))"
      ]
     },
     "execution_count": 36,
     "metadata": {},
     "output_type": "execute_result"
    }
   ],
   "source": [
    "stats.chi2_contingency(observed= edu)"
   ]
  },
  {
   "cell_type": "markdown",
   "metadata": {},
   "source": [
    "$$pvalue < 0.01$$\n",
    ">><pre>I rejected the null and there is relation between educational qualifiaction status with marital status</pre>"
   ]
  },
  {
   "cell_type": "markdown",
   "metadata": {},
   "source": [
    "<pre>\n",
    "case 3:\n",
    "H0: Two categorical variables are independent.\n",
    "HA: Two categorical variables are not indeoendent.\n",
    "\n",
    "chi-square test will be applied.\n",
    "a)for happy,earning\n",
    "b)for happy,marital status"
   ]
  },
  {
   "cell_type": "code",
   "execution_count": 22,
   "metadata": {},
   "outputs": [
    {
     "data": {
      "text/html": [
       "<div>\n",
       "<style scoped>\n",
       "    .dataframe tbody tr th:only-of-type {\n",
       "        vertical-align: middle;\n",
       "    }\n",
       "\n",
       "    .dataframe tbody tr th {\n",
       "        vertical-align: top;\n",
       "    }\n",
       "\n",
       "    .dataframe thead th {\n",
       "        text-align: right;\n",
       "    }\n",
       "</style>\n",
       "<table border=\"1\" class=\"dataframe\">\n",
       "  <thead>\n",
       "    <tr style=\"text-align: right;\">\n",
       "      <th>income</th>\n",
       "      <th>$1000 TO 2999</th>\n",
       "      <th>$10000 - 14999</th>\n",
       "      <th>$15000 - 19999</th>\n",
       "      <th>$20000 - 24999</th>\n",
       "      <th>$25000 or more</th>\n",
       "      <th>$3000 TO 3999</th>\n",
       "      <th>$4000 TO 4999</th>\n",
       "      <th>$5000 TO 5999</th>\n",
       "      <th>$6000 TO 6999</th>\n",
       "      <th>$7000 TO 7999</th>\n",
       "      <th>$8000 TO 9999</th>\n",
       "      <th>LT $1000</th>\n",
       "    </tr>\n",
       "    <tr>\n",
       "      <th>happy</th>\n",
       "      <th></th>\n",
       "      <th></th>\n",
       "      <th></th>\n",
       "      <th></th>\n",
       "      <th></th>\n",
       "      <th></th>\n",
       "      <th></th>\n",
       "      <th></th>\n",
       "      <th></th>\n",
       "      <th></th>\n",
       "      <th></th>\n",
       "      <th></th>\n",
       "    </tr>\n",
       "  </thead>\n",
       "  <tbody>\n",
       "    <tr>\n",
       "      <th>Not too happy</th>\n",
       "      <td>7</td>\n",
       "      <td>39</td>\n",
       "      <td>33</td>\n",
       "      <td>40</td>\n",
       "      <td>113</td>\n",
       "      <td>9</td>\n",
       "      <td>9</td>\n",
       "      <td>6</td>\n",
       "      <td>14</td>\n",
       "      <td>12</td>\n",
       "      <td>9</td>\n",
       "      <td>11</td>\n",
       "    </tr>\n",
       "    <tr>\n",
       "      <th>Pretty happy</th>\n",
       "      <td>20</td>\n",
       "      <td>107</td>\n",
       "      <td>119</td>\n",
       "      <td>155</td>\n",
       "      <td>888</td>\n",
       "      <td>11</td>\n",
       "      <td>13</td>\n",
       "      <td>18</td>\n",
       "      <td>13</td>\n",
       "      <td>21</td>\n",
       "      <td>30</td>\n",
       "      <td>13</td>\n",
       "    </tr>\n",
       "    <tr>\n",
       "      <th>Very happy</th>\n",
       "      <td>5</td>\n",
       "      <td>44</td>\n",
       "      <td>26</td>\n",
       "      <td>50</td>\n",
       "      <td>571</td>\n",
       "      <td>4</td>\n",
       "      <td>10</td>\n",
       "      <td>11</td>\n",
       "      <td>6</td>\n",
       "      <td>14</td>\n",
       "      <td>19</td>\n",
       "      <td>11</td>\n",
       "    </tr>\n",
       "  </tbody>\n",
       "</table>\n",
       "</div>"
      ],
      "text/plain": [
       "income         $1000 TO 2999  $10000 - 14999  $15000 - 19999  $20000 - 24999  \\\n",
       "happy                                                                          \n",
       "Not too happy              7              39              33              40   \n",
       "Pretty happy              20             107             119             155   \n",
       "Very happy                 5              44              26              50   \n",
       "\n",
       "income         $25000 or more  $3000 TO 3999  $4000 TO 4999  $5000 TO 5999  \\\n",
       "happy                                                                        \n",
       "Not too happy             113              9              9              6   \n",
       "Pretty happy              888             11             13             18   \n",
       "Very happy                571              4             10             11   \n",
       "\n",
       "income         $6000 TO 6999  $7000 TO 7999  $8000 TO 9999  LT $1000  \n",
       "happy                                                                 \n",
       "Not too happy             14             12              9        11  \n",
       "Pretty happy              13             21             30        13  \n",
       "Very happy                 6             14             19        11  "
      ]
     },
     "execution_count": 22,
     "metadata": {},
     "output_type": "execute_result"
    }
   ],
   "source": [
    "earn=pd.crosstab(surv.happy,surv.income)\n",
    "earn"
   ]
  },
  {
   "cell_type": "code",
   "execution_count": 19,
   "metadata": {},
   "outputs": [
    {
     "data": {
      "text/plain": [
       "(178.9505306121643,\n",
       " 1.4107677273473057e-26,\n",
       " 22,\n",
       " array([[  3.89520355,  23.12777106,  21.66706973,  29.82265216,\n",
       "         191.35187424,   2.92140266,   3.89520355,   4.26037888,\n",
       "           4.01692866,   5.72108021,   7.06005643,   4.26037888],\n",
       "        [ 18.16041919, 107.82748892, 101.01733172, 139.04070939,\n",
       "         892.1305925 ,  13.62031439,  18.16041919,  19.86295848,\n",
       "          18.72793229,  26.67311568,  32.91575977,  19.86295848],\n",
       "        [  9.94437727,  59.04474002,  55.31559855,  76.13663845,\n",
       "         488.51753325,   7.45828295,   9.94437727,  10.87666264,\n",
       "          10.25513906,  14.60580411,  18.0241838 ,  10.87666264]]))"
      ]
     },
     "execution_count": 19,
     "metadata": {},
     "output_type": "execute_result"
    }
   ],
   "source": [
    "stats.chi2_contingency(observed= earn)"
   ]
  },
  {
   "cell_type": "markdown",
   "metadata": {},
   "source": [
    "$$p<0.01$$\n",
    "H0 cannot be accepted.\n",
    "thus the income and happiness are in relation"
   ]
  },
  {
   "cell_type": "code",
   "execution_count": 20,
   "metadata": {},
   "outputs": [
    {
     "data": {
      "text/html": [
       "<div>\n",
       "<style scoped>\n",
       "    .dataframe tbody tr th:only-of-type {\n",
       "        vertical-align: middle;\n",
       "    }\n",
       "\n",
       "    .dataframe tbody tr th {\n",
       "        vertical-align: top;\n",
       "    }\n",
       "\n",
       "    .dataframe thead th {\n",
       "        text-align: right;\n",
       "    }\n",
       "</style>\n",
       "<table border=\"1\" class=\"dataframe\">\n",
       "  <thead>\n",
       "    <tr style=\"text-align: right;\">\n",
       "      <th>marital</th>\n",
       "      <th>Divorced</th>\n",
       "      <th>Married</th>\n",
       "      <th>Never married</th>\n",
       "      <th>Separated</th>\n",
       "      <th>Widowed</th>\n",
       "    </tr>\n",
       "    <tr>\n",
       "      <th>happy</th>\n",
       "      <th></th>\n",
       "      <th></th>\n",
       "      <th></th>\n",
       "      <th></th>\n",
       "      <th></th>\n",
       "    </tr>\n",
       "  </thead>\n",
       "  <tbody>\n",
       "    <tr>\n",
       "      <th>Not too happy</th>\n",
       "      <td>72</td>\n",
       "      <td>71</td>\n",
       "      <td>108</td>\n",
       "      <td>30</td>\n",
       "      <td>59</td>\n",
       "    </tr>\n",
       "    <tr>\n",
       "      <th>Pretty happy</th>\n",
       "      <td>278</td>\n",
       "      <td>684</td>\n",
       "      <td>426</td>\n",
       "      <td>49</td>\n",
       "      <td>137</td>\n",
       "    </tr>\n",
       "    <tr>\n",
       "      <th>Very happy</th>\n",
       "      <td>93</td>\n",
       "      <td>582</td>\n",
       "      <td>120</td>\n",
       "      <td>13</td>\n",
       "      <td>83</td>\n",
       "    </tr>\n",
       "  </tbody>\n",
       "</table>\n",
       "</div>"
      ],
      "text/plain": [
       "marital        Divorced  Married  Never married  Separated  Widowed\n",
       "happy                                                              \n",
       "Not too happy        72       71            108         30       59\n",
       "Pretty happy        278      684            426         49      137\n",
       "Very happy           93      582            120         13       83"
      ]
     },
     "execution_count": 20,
     "metadata": {},
     "output_type": "execute_result"
    }
   ],
   "source": [
    "marital=pd.crosstab(surv.happy,surv.marital)\n",
    "marital"
   ]
  },
  {
   "cell_type": "code",
   "execution_count": 21,
   "metadata": {},
   "outputs": [
    {
     "data": {
      "text/plain": [
       "(260.6894389418282,\n",
       " 9.3147261197964e-52,\n",
       " 8,\n",
       " array([[ 53.6969697 , 162.06060606,  79.27272727,  11.15151515,\n",
       "          33.81818182],\n",
       "        [248.58538324, 750.24527629, 366.98609626,  51.62495544,\n",
       "         156.55828877],\n",
       "        [140.71764706, 424.69411765, 207.74117647,  29.22352941,\n",
       "          88.62352941]]))"
      ]
     },
     "execution_count": 21,
     "metadata": {},
     "output_type": "execute_result"
    }
   ],
   "source": [
    "stats.chi2_contingency(marital)"
   ]
  },
  {
   "cell_type": "markdown",
   "metadata": {},
   "source": [
    "$$p<0.01$$\n",
    "thus H0 cannit be accepted.\n",
    "thus,happiness and marital status are related\n",
    "\n",
    ">><pre>thus,Hapiness is driven by both:marital status and income"
   ]
  },
  {
   "cell_type": "markdown",
   "metadata": {},
   "source": []
  },
  {
   "cell_type": "code",
   "execution_count": null,
   "metadata": {},
   "outputs": [],
   "source": []
  }
 ],
 "metadata": {
  "kernelspec": {
   "display_name": "Python 3",
   "language": "python",
   "name": "python3"
  },
  "language_info": {
   "codemirror_mode": {
    "name": "ipython",
    "version": 3
   },
   "file_extension": ".py",
   "mimetype": "text/x-python",
   "name": "python",
   "nbconvert_exporter": "python",
   "pygments_lexer": "ipython3",
   "version": "3.6.5"
  }
 },
 "nbformat": 4,
 "nbformat_minor": 2
}
